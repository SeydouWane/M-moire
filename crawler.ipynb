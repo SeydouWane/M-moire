{
 "cells": [
  {
   "cell_type": "code",
   "execution_count": 1,
   "metadata": {},
   "outputs": [],
   "source": [
    "import newspaper\n",
    "import pandas as pd"
   ]
  },
  {
   "cell_type": "code",
   "execution_count": 2,
   "metadata": {},
   "outputs": [
    {
     "name": "stdout",
     "output_type": "stream",
     "text": [
      "Les liens des articles ont été enregistrés dans le fichier 'article_links.xlsx'.\n"
     ]
    }
   ],
   "source": [
    "def scrape_article_links(site_urls):\n",
    "    article_links = []\n",
    "\n",
    "    for site_url in site_urls:\n",
    "        # Initialiser le scraper de site\n",
    "        site = newspaper.build(site_url, memoize_articles=False)\n",
    "\n",
    "        # Récupérer tous les articles du site\n",
    "        articles = site.articles\n",
    "\n",
    "        # Boucle sur chaque article pour extraire les URLs\n",
    "        for article in articles:\n",
    "            try:\n",
    "                article_links.append({\n",
    "                    \"site_url\": site_url,\n",
    "                    \"article_url\": article.url\n",
    "                })\n",
    "            except Exception as e:\n",
    "                print(f\"Erreur lors de la récupération du lien de l'article de {site_url}: {e}\")\n",
    "                continue\n",
    "\n",
    "    # Convertir la liste en DataFrame pandas\n",
    "    df = pd.DataFrame(article_links)\n",
    "\n",
    "    # Enregistrer le DataFrame dans un fichier Excel\n",
    "    df.to_excel(\"article_links.xlsx\", index=False)\n",
    "\n",
    "    print(\"Les liens des articles ont été enregistrés dans le fichier 'article_links.xlsx'.\")\n",
    "\n",
    "# URLs des sites à parcourir\n",
    "site_urls = [\"https://www.senego.com/\", \"https://www.dakaractu.com/\", \"https://www.pressafrik.com/\"]\n",
    "\n",
    "# Lancer le processus de scraping des liens\n",
    "scrape_article_links(site_urls)\n"
   ]
  },
  {
   "cell_type": "code",
   "execution_count": 1,
   "metadata": {},
   "outputs": [
    {
     "name": "stdout",
     "output_type": "stream",
     "text": [
      "Les liens des articles ont été enregistrés dans le fichier 'article_links.xlsx'.\n"
     ]
    }
   ],
   "source": [
    "import newspaper\n",
    "import pandas as pd\n",
    "import spacy\n",
    "\n",
    "# Charger le modèle de traitement du langage naturel français de SpaCy\n",
    "nlp = spacy.load(\"fr_core_news_sm\")\n",
    "\n",
    "def analyze_article_url(url):\n",
    "    # Analyse basique du texte de l'URL pour la classification\n",
    "    doc = nlp(url)\n",
    "    return doc\n",
    "\n",
    "def scrape_article_links(site_urls):\n",
    "    article_links = []\n",
    "\n",
    "    for site_url in site_urls:\n",
    "        # Initialiser le scraper de site\n",
    "        site = newspaper.build(site_url, memoize_articles=False)\n",
    "\n",
    "        # Récupérer tous les articles du site\n",
    "        articles = site.articles\n",
    "\n",
    "        # Boucle sur chaque article pour extraire les URLs\n",
    "        for article in articles:\n",
    "            try:\n",
    "                # Analyser le texte de l'URL\n",
    "                analysis = analyze_article_url(article.url)\n",
    "                \n",
    "                # Vous pouvez ajouter des critères basés sur l'analyse ici, par exemple :\n",
    "                # if some_condition_based_on_analysis:\n",
    "                article_links.append({\n",
    "                    \"site_url\": site_url,\n",
    "                    \"article_url\": article.url,\n",
    "                    \"analysis\": analysis.text  # ou une autre représentation de l'analyse\n",
    "                })\n",
    "            except Exception as e:\n",
    "                print(f\"Erreur lors de la récupération du lien de l'article de {site_url}: {e}\")\n",
    "                continue\n",
    "\n",
    "    # Convertir la liste en DataFrame pandas\n",
    "    df = pd.DataFrame(article_links)\n",
    "\n",
    "    # Enregistrer le DataFrame dans un fichier Excel\n",
    "    df.to_excel(\"article_links.xlsx\", index=False)\n",
    "\n",
    "    print(\"Les liens des articles ont été enregistrés dans le fichier 'article_links.xlsx'.\")\n",
    "\n",
    "# URLs des sites à parcourir\n",
    "site_urls = [\"https://www.senego.com/\", \"https://www.dakaractu.com/\", \"https://www.pressafrik.com/\"]\n",
    "\n",
    "# Lancer le processus de scraping des liens\n",
    "scrape_article_links(site_urls)\n"
   ]
  }
 ],
 "metadata": {
  "kernelspec": {
   "display_name": "Python 3",
   "language": "python",
   "name": "python3"
  },
  "language_info": {
   "codemirror_mode": {
    "name": "ipython",
    "version": 3
   },
   "file_extension": ".py",
   "mimetype": "text/x-python",
   "name": "python",
   "nbconvert_exporter": "python",
   "pygments_lexer": "ipython3",
   "version": "3.8.2"
  }
 },
 "nbformat": 4,
 "nbformat_minor": 2
}
